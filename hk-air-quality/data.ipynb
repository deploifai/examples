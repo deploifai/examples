{
 "cells": [
  {
   "cell_type": "code",
   "execution_count": null,
   "metadata": {},
   "outputs": [],
   "source": [
    "import torch\n",
    "import pandas as pd"
   ]
  },
  {
   "cell_type": "code",
   "execution_count": null,
   "metadata": {},
   "outputs": [],
   "source": [
    "weather_df = pd.read_csv(\"~/data/dataset/weather.csv\")\n",
    "weather_df"
   ]
  },
  {
   "cell_type": "code",
   "execution_count": null,
   "metadata": {},
   "outputs": [],
   "source": [
    "air_df = pd.read_csv(\"~/data/dataset/air_hourly_1.csv\")\n",
    "air_df"
   ]
  },
  {
   "cell_type": "code",
   "execution_count": null,
   "metadata": {},
   "outputs": [],
   "source": [
    "mongkok_air_df = air_df.loc[air_df['監測站'] == '旺角']\n",
    "mongkok_air_df"
   ]
  },
  {
   "cell_type": "code",
   "execution_count": null,
   "metadata": {},
   "outputs": [],
   "source": [
    "mongkok_air_df = mongkok_air_df[[\"日期\", \"小時\", \"NOX\"]]\n",
    "mongkok_air_df"
   ]
  },
  {
   "cell_type": "code",
   "execution_count": null,
   "metadata": {},
   "outputs": [],
   "source": [
    "p_air_df = pd.DataFrame(columns=[\"month\", \"day\", \"hour\", \"NOX\", \"MaxTemp\", \"MinGrassTemp\", \"MinTemp\", \"MaxRH\", \"MinRH\"])"
   ]
  },
  {
   "cell_type": "code",
   "execution_count": null,
   "metadata": {},
   "outputs": [],
   "source": [
    "for i, row in mongkok_air_df.iterrows():\n",
    "  date = row['日期'].split('/')\n",
    "  \n",
    "  j = i - 166320\n",
    "  w = weather_df.loc[j // 24]\n",
    "  \n",
    "  p_air_df.loc[j] = [date[1], date[0], row['小時'] - 1, row['NOX'], w['MaxTemp'], w['MinGrassTemp'], w['MinTemp'], w['MaxRH'], w['MinRH']]\n",
    "  \n",
    "p_air_df\n"
   ]
  },
  {
   "cell_type": "code",
   "execution_count": null,
   "metadata": {},
   "outputs": [],
   "source": [
    "p_air_df = pd.get_dummies(data=p_air_df, columns=['month', 'day', 'hour'], dtype='float64')\n",
    "p_air_df"
   ]
  },
  {
   "cell_type": "code",
   "execution_count": null,
   "metadata": {},
   "outputs": [],
   "source": [
    "# p_air_df.to_csv(\"~/data/dataset/processed.csv\")"
   ]
  }
 ],
 "metadata": {
  "kernelspec": {
   "display_name": "Python 3 (ipykernel)",
   "language": "python",
   "name": "python3"
  }
 },
 "nbformat": 4,
 "nbformat_minor": 2
}
