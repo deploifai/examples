{
 "cells": [
  {
   "cell_type": "code",
   "execution_count": null,
   "metadata": {},
   "outputs": [],
   "source": [
    "import requests\n",
    "import datetime"
   ]
  },
  {
   "cell_type": "code",
   "execution_count": null,
   "metadata": {},
   "outputs": [],
   "source": [
    "import pandas as pd"
   ]
  },
  {
   "cell_type": "code",
   "execution_count": null,
   "metadata": {},
   "outputs": [],
   "source": [
    "df = pd.DataFrame(columns=[\"date\", \"MaxTemp\", \"MinGrassTemp\", \"MinTemp\", \"MaxRH\", \"MinRH\"])\n",
    "df"
   ]
  },
  {
   "cell_type": "code",
   "execution_count": null,
   "metadata": {},
   "outputs": [],
   "source": [
    "d = datetime.datetime(2020, 1, 1)\n",
    "end = datetime.datetime(2023, 3, 1)\n",
    "\n",
    "i = 0\n",
    "while d != end:\n",
    "  qd = d.strftime(\"%Y%m%d\")\n",
    "\n",
    "  url = f\"https://data.weather.gov.hk/weatherAPI/opendata/opendata.php?dataType=RYES&station=HKO&date={qd}\"\n",
    "  response = requests.get(url)\n",
    "  body = response.json()\n",
    "  df.loc[i] = [d.strftime(\"%d/%m/%Y\"), float(body['HKOReadingsMaxTemp']), float(body['HKOReadingsMinGrassTemp']), float(body['HKOReadingsMinTemp']), float(body['HKOReadingsMaxRH']), float(body['HKOReadingsMinRH'])]\n",
    "\n",
    "  if i % 20 == 0: print(i)\n",
    "\n",
    "  d += datetime.timedelta(days=1)\n",
    "  i += 1\n"
   ]
  },
  {
   "cell_type": "code",
   "execution_count": null,
   "metadata": {},
   "outputs": [],
   "source": [
    "df"
   ]
  },
  {
   "cell_type": "code",
   "execution_count": null,
   "metadata": {},
   "outputs": [],
   "source": [
    "# df.to_csv(\"~/data/dataset/weather.csv\", index=False)"
   ]
  }
 ],
 "metadata": {
  "kernelspec": {
   "display_name": "Python 3 (ipykernel)",
   "language": "python",
   "name": "python3"
  }
 },
 "nbformat": 4,
 "nbformat_minor": 2
}
