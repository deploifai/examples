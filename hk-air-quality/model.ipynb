{
 "cells": [
  {
   "cell_type": "code",
   "execution_count": null,
   "metadata": {},
   "outputs": [],
   "source": [
    "import torch\n",
    "import pandas as pd\n",
    "import numpy as np"
   ]
  },
  {
   "cell_type": "code",
   "execution_count": null,
   "metadata": {},
   "outputs": [],
   "source": [
    "torch.manual_seed(345)"
   ]
  },
  {
   "cell_type": "code",
   "execution_count": null,
   "metadata": {},
   "outputs": [],
   "source": [
    "df = pd.read_csv(\"~/data/dataset/processed.csv\")\n",
    "df['NOX'] = pd.to_numeric(df['NOX'], errors=\"coerce\")\n",
    "df = df.loc[df['NOX'] >= 0]\n",
    "df"
   ]
  },
  {
   "cell_type": "code",
   "execution_count": null,
   "metadata": {},
   "outputs": [],
   "source": [
    "all_data = df.to_numpy(dtype=\"float32\")\n",
    "all_data"
   ]
  },
  {
   "cell_type": "code",
   "execution_count": null,
   "metadata": {},
   "outputs": [],
   "source": [
    "class CustomDataset(torch.utils.data.Dataset):\n",
    "  def __init__(self, all_data):\n",
    "    x_weather = all_data[:,2:7]\n",
    "    x_temporal = all_data[:,7:]\n",
    "    y = all_data[:,1:2]\n",
    "\n",
    "    # normalize first 5 columns of x manually\n",
    "    # for temperature data, convert celcius to kelvin, then max scaling\n",
    "    # for relative humidity data, scale to 100\n",
    "    x_weather_temp = x_weather[:, :3]\n",
    "    x_weather_temp += 273.15\n",
    "    x_weather_temp = x_weather_temp / x_weather_temp.max(axis=0)\n",
    "    x_weather_rh = x_weather[:, 3:] / 100\n",
    "    x_weather = np.hstack((x_weather_temp, x_weather_rh))\n",
    "\n",
    "    # normalize y by max scaling\n",
    "    y = y / y.max(axis=0)\n",
    "\n",
    "    self.x = np.hstack((x_weather, x_temporal))\n",
    "    self.y = y\n",
    "\n",
    "  def __len__(self):\n",
    "    return self.x.shape[0]\n",
    "  \n",
    "  def __getitem__(self, index):\n",
    "    x = self.x[index]\n",
    "    y = self.y[index]\n",
    "\n",
    "    return torch.Tensor(x), torch.Tensor(y)"
   ]
  },
  {
   "cell_type": "code",
   "execution_count": null,
   "metadata": {},
   "outputs": [],
   "source": [
    "dataset = CustomDataset(all_data)\n",
    "dataset"
   ]
  },
  {
   "cell_type": "code",
   "execution_count": null,
   "metadata": {},
   "outputs": [],
   "source": [
    "train_size = int(0.9 * len(dataset))\n",
    "test_size = len(dataset) - train_size\n",
    "train_dataset, test_dataset = torch.utils.data.random_split(dataset, [train_size, test_size])"
   ]
  },
  {
   "cell_type": "code",
   "execution_count": null,
   "metadata": {},
   "outputs": [],
   "source": [
    "train_dataloader = torch.utils.data.DataLoader(train_dataset, batch_size=64, shuffle=True)\n",
    "test_dataloader = torch.utils.data.DataLoader(test_dataset, batch_size=64, shuffle=True)"
   ]
  },
  {
   "cell_type": "code",
   "execution_count": null,
   "metadata": {},
   "outputs": [],
   "source": [
    "class DNNModel(torch.nn.Module):\n",
    "  def __init__(self):\n",
    "    super().__init__()\n",
    "    self.temporal = torch.nn.Sequential(\n",
    "      torch.nn.Linear(12 + 31 + 24, 128),\n",
    "      torch.nn.ReLU(),\n",
    "      torch.nn.Linear(128, 32),\n",
    "      torch.nn.ReLU(),\n",
    "      torch.nn.Linear(32, 16),\n",
    "    )\n",
    "    self.weather = torch.nn.Sequential(\n",
    "      torch.nn.Linear(5, 20),\n",
    "      torch.nn.ReLU(),\n",
    "      torch.nn.Linear(20, 10),\n",
    "      torch.nn.ReLU(),\n",
    "      torch.nn.Linear(10, 5),\n",
    "    )\n",
    "    self.combine = torch.nn.Sequential(\n",
    "      torch.nn.Linear(21, 8),\n",
    "      torch.nn.ReLU(),\n",
    "      torch.nn.Linear(8, 1)\n",
    "    )\n",
    "  \n",
    "  def forward(self, x):\n",
    "    x_temporal = x[:, 5:]\n",
    "    x_weather = x[:, :5]\n",
    "    x_temporal = self.temporal(x_temporal)\n",
    "    x_weather = self.weather(x_weather)\n",
    "    x_combine = torch.cat((x_temporal, x_weather), 1)\n",
    "    x_combine = self.combine(x_combine)\n",
    "    return x_combine"
   ]
  },
  {
   "cell_type": "code",
   "execution_count": null,
   "metadata": {},
   "outputs": [],
   "source": [
    "dnn_model = DNNModel()"
   ]
  },
  {
   "cell_type": "code",
   "execution_count": null,
   "metadata": {},
   "outputs": [],
   "source": [
    "learning_rate = 1e-3\n",
    "batch_size = 64\n",
    "l2_weight_decay = 1e-5"
   ]
  },
  {
   "cell_type": "code",
   "execution_count": null,
   "metadata": {},
   "outputs": [],
   "source": [
    "loss_fn = torch.nn.MSELoss()\n",
    "optimizer = torch.optim.Adam(dnn_model.parameters(), learning_rate, weight_decay=l2_weight_decay)"
   ]
  },
  {
   "cell_type": "code",
   "execution_count": null,
   "metadata": {},
   "outputs": [],
   "source": [
    "def train_loop(dataloader, model, loss_fn, optimizer):\n",
    "    size = len(dataloader.dataset)\n",
    "    # Set the model to training mode - important for batch normalization and dropout layers\n",
    "    # Unnecessary in this situation but added for best practices\n",
    "    model.train()\n",
    "    for batch, (X, y) in enumerate(dataloader):\n",
    "        # Compute prediction and loss\n",
    "        pred = model(X)\n",
    "        loss = loss_fn(pred, y)\n",
    "\n",
    "        # Backpropagation\n",
    "        optimizer.zero_grad()\n",
    "        loss.backward()\n",
    "        optimizer.step()\n",
    "\n",
    "        if batch % 100 == 0:\n",
    "            loss, current = loss.item(), (batch + 1) * len(X)\n",
    "            print(f\"loss: {loss:>7f}  [{current:>5d}/{size:>5d}]\")\n",
    "\n",
    "def test_loop(dataloader, model, loss_fn, permitted_test_error):\n",
    "    # Set the model to evaluation mode - important for batch normalization and dropout layers\n",
    "    # Unnecessary in this situation but added for best practices\n",
    "    model.eval()\n",
    "    size = len(dataloader.dataset)\n",
    "    num_batches = len(dataloader)\n",
    "    test_loss, correct = 0, 0\n",
    "\n",
    "    # Evaluating the model with torch.no_grad() ensures that no gradients are computed during test mode\n",
    "    # also serves to reduce unnecessary gradient computations and memory usage for tensors with requires_grad=True\n",
    "    with torch.no_grad():\n",
    "        for X, y in dataloader:\n",
    "            pred = model(X)\n",
    "            test_loss += loss_fn(pred, y).item()\n",
    "            correct += (torch.abs(pred - y) <= permitted_test_error * y).float().sum().item()\n",
    "\n",
    "    test_loss /= num_batches\n",
    "    correct /= size\n",
    "    print(f\"Test Error: \\n Accuracy: {(100*correct):>0.1f}%, Avg loss: {test_loss:>8f} \\n\")"
   ]
  },
  {
   "cell_type": "code",
   "execution_count": null,
   "metadata": {},
   "outputs": [],
   "source": [
    "epochs = 20\n",
    "permitted_test_error = 0.20 # prediction is considered to be correct if within 20% of truth\n",
    "for t in range(epochs):\n",
    "    print(f\"Epoch {t+1}\\n-------------------------------\")\n",
    "    train_loop(train_dataloader, dnn_model, loss_fn, optimizer)\n",
    "    test_loop(test_dataloader, dnn_model, loss_fn, permitted_test_error)\n",
    "print(\"Done!\")"
   ]
  }
 ],
 "metadata": {
  "kernelspec": {
   "display_name": "Python 3 (ipykernel)",
   "language": "python",
   "name": "python3"
  },
  "language_info": {
   "codemirror_mode": {
    "name": "ipython",
    "version": 3
   },
   "file_extension": ".py",
   "mimetype": "text/x-python",
   "name": "python",
   "nbconvert_exporter": "python",
   "pygments_lexer": "ipython3",
   "version": "3.11.4"
  }
 },
 "nbformat": 4,
 "nbformat_minor": 2
}
